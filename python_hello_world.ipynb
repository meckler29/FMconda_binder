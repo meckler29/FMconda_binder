{
 "cells": [
  {
   "cell_type": "code",
   "execution_count": 3,
   "id": "b968805c-0ab6-47e8-ac4d-dd027e83352e",
   "metadata": {
    "tags": []
   },
   "outputs": [],
   "source": [
    "#Class Notes"
   ]
  },
  {
   "cell_type": "code",
   "execution_count": 4,
   "id": "361aacde-e446-4005-b7da-2221a97a8371",
   "metadata": {
    "tags": []
   },
   "outputs": [
    {
     "name": "stdout",
     "output_type": "stream",
     "text": [
      "Hello World\n"
     ]
    }
   ],
   "source": [
    "print(\"Hello World\")"
   ]
  }
 ],
 "metadata": {
  "kernelspec": {
   "display_name": "Python 3 (ipykernel)",
   "language": "python",
   "name": "python3"
  },
  "language_info": {
   "codemirror_mode": {
    "name": "ipython",
    "version": 3
   },
   "file_extension": ".py",
   "mimetype": "text/x-python",
   "name": "python",
   "nbconvert_exporter": "python",
   "pygments_lexer": "ipython3",
   "version": "3.11.4"
  }
 },
 "nbformat": 4,
 "nbformat_minor": 5
}
